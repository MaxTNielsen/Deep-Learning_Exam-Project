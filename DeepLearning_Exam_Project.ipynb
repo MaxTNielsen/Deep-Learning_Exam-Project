{
  "nbformat": 4,
  "nbformat_minor": 0,
  "metadata": {
    "colab": {
      "name": "DeepLearning Exam Project.ipynb",
      "provenance": [],
      "toc_visible": true,
      "authorship_tag": "ABX9TyNQJ3xsprTEnmpgA6PQq0NM",
      "include_colab_link": true
    },
    "kernelspec": {
      "name": "python3",
      "display_name": "Python 3"
    },
    "language_info": {
      "name": "python"
    }
  },
  "cells": [
    {
      "cell_type": "markdown",
      "metadata": {
        "id": "view-in-github",
        "colab_type": "text"
      },
      "source": [
        "<a href=\"https://colab.research.google.com/github/MaxTNielsen/Deep-Learning_Exam-Project/blob/main/DeepLearning_Exam_Project.ipynb\" target=\"_parent\"><img src=\"https://colab.research.google.com/assets/colab-badge.svg\" alt=\"Open In Colab\"/></a>"
      ]
    },
    {
      "cell_type": "code",
      "metadata": {
        "id": "DRbd7D1i7w71"
      },
      "source": [
        "import pandas as pd\n",
        "url = 'https://raw.githubusercontent.com/MaxTNielsen/Deep-Learning_Exam-Project/main/benchmark.csv'\n",
        "df_benchmark1 = pd.read_csv(url)\n",
        "\n",
        "url = 'https://raw.githubusercontent.com/MaxTNielsen/Deep-Learning_Exam-Project/main/test.csv'\n",
        "df_test = pd.read_csv(url)\n",
        "\n",
        "url = 'https://raw.githubusercontent.com/MaxTNielsen/Deep-Learning_Exam-Project/main/train.csv'\n",
        "df1_train = pd.read_csv(url)\n",
        "\n",
        "url = 'https://raw.githubusercontent.com/MaxTNielsen/Deep-Learning_Exam-Project/main/windforecasts_wf1.csv'\n",
        "df1_wind1 = pd.read_csv(url)\n",
        "\n",
        "url = 'https://raw.githubusercontent.com/MaxTNielsen/Deep-Learning_Exam-Project/main/windforecasts_wf2.csv'\n",
        "df1_wind2 = pd.read_csv(url)\n",
        "\n",
        "url = 'https://raw.githubusercontent.com/MaxTNielsen/Deep-Learning_Exam-Project/main/windforecasts_wf3.csv'\n",
        "df1_wind3 = pd.read_csv(url)\n",
        "\n",
        "url = 'https://raw.githubusercontent.com/MaxTNielsen/Deep-Learning_Exam-Project/main/windforecasts_wf4.csv'\n",
        "df1_wind4 = pd.read_csv(url)\n",
        "\n",
        "url = 'https://raw.githubusercontent.com/MaxTNielsen/Deep-Learning_Exam-Project/main/windforecasts_wf5.csv'\n",
        "df1_wind5 = pd.read_csv(url)\n",
        "\n",
        "url = 'https://raw.githubusercontent.com/MaxTNielsen/Deep-Learning_Exam-Project/main/windforecasts_wf6.csv'\n",
        "df1_wind6 = pd.read_csv(url)\n",
        "\n",
        "url = 'https://raw.githubusercontent.com/MaxTNielsen/Deep-Learning_Exam-Project/main/windforecasts_wf7.csv'\n",
        "df1_wind7 = pd.read_csv(url)"
      ],
      "execution_count": 3,
      "outputs": []
    },
    {
      "cell_type": "code",
      "metadata": {
        "colab": {
          "base_uri": "https://localhost:8080/"
        },
        "id": "zsW2gI6r9NYY",
        "outputId": "468a7646-0c6f-468a-96c3-7b5af2a17821"
      },
      "source": [
        "print(df_test)"
      ],
      "execution_count": 4,
      "outputs": [
        {
          "output_type": "stream",
          "name": "stdout",
          "text": [
            "        id        date\n",
            "0     4866  2011122106\n",
            "1     2167  2011060719\n",
            "2     5522  2012020714\n",
            "3     6474  2012041518\n",
            "4     3889  2011101113\n",
            "...    ...         ...\n",
            "7483  2088  2011060112\n",
            "7484   917  2011030817\n",
            "7485  7219  2012060919\n",
            "7486  1846  2011051422\n",
            "7487  2157  2011060521\n",
            "\n",
            "[7488 rows x 2 columns]\n"
          ]
        }
      ]
    }
  ]
}